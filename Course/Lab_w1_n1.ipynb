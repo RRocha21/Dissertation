{
 "cells": [
  {
   "cell_type": "code",
   "execution_count": 1,
   "id": "e1062e92",
   "metadata": {},
   "outputs": [
    {
     "name": "stdout",
     "output_type": "stream",
     "text": [
      "Option LAB 1 -> \n"
     ]
    }
   ],
   "source": [
    "## LAB -> Option LAB 1-> \n",
    "print(f\"Option LAB 1 -> \")"
   ]
  },
  {
   "cell_type": "code",
   "execution_count": 2,
   "id": "4e3780f3",
   "metadata": {},
   "outputs": [
    {
     "name": "stdout",
     "output_type": "stream",
     "text": [
      "This is a code cell\n",
      "f strings allow you to embed right in the strings!\n"
     ]
    }
   ],
   "source": [
    "#this is a 'Code' cell\n",
    "print (\"This is a code cell\")\n",
    "\n",
    "#print statements\n",
    "variable = \"right in the strings!\"\n",
    "print(f\"f strings allow you to embed {variable}\")"
   ]
  }
 ],
 "metadata": {
  "kernelspec": {
   "display_name": "Python 3.10.0 ('env-01': venv)",
   "language": "python",
   "name": "python3"
  },
  "language_info": {
   "codemirror_mode": {
    "name": "ipython",
    "version": 3
   },
   "file_extension": ".py",
   "mimetype": "text/x-python",
   "name": "python",
   "nbconvert_exporter": "python",
   "pygments_lexer": "ipython3",
   "version": "3.10.0"
  },
  "vscode": {
   "interpreter": {
    "hash": "2aa40785e49868d3b3cd54adacc5b8029a981a1cfd61eaa959479f0b284240ba"
   }
  }
 },
 "nbformat": 4,
 "nbformat_minor": 5
}
